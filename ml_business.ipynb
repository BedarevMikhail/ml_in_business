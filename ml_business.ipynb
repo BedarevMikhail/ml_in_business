{
 "cells": [
  {
   "cell_type": "markdown",
   "metadata": {},
   "source": [
    "# Описание проекта"
   ]
  },
  {
   "cell_type": "markdown",
   "metadata": {},
   "source": [
    "Допустим, вы работаете в добывающей компании «ГлавРосГосНефть». Нужно решить, где бурить новую скважину.\n",
    "\n",
    "Вам предоставлены пробы нефти в трёх регионах: в каждом 10 000 месторождений, где измерили качество нефти и объём её запасов. Постройте модель машинного обучения, которая поможет определить регион, где добыча принесёт наибольшую прибыль. Проанализируйте возможную прибыль и риски техникой *Bootstrap.*\n",
    "\n",
    "Шаги для выбора локации:\n",
    "\n",
    "- В избранном регионе ищут месторождения, для каждого определяют значения признаков;\n",
    "- Строят модель и оценивают объём запасов;\n",
    "- Выбирают месторождения с самым высокими оценками значений. Количество месторождений зависит от бюджета компании и стоимости разработки одной скважины;\n",
    "- Прибыль равна суммарной прибыли отобранных месторождений."
   ]
  },
  {
   "cell_type": "markdown",
   "metadata": {},
   "source": [
    "### Описание данных  \n",
    "* id — уникальный идентификатор скважины;\n",
    "* f0, f1, f2 — три признака точек (неважно, что они означают, но сами признаки значимы);\n",
    "* product — объём запасов в скважине (тыс. баррелей)."
   ]
  },
  {
   "cell_type": "markdown",
   "metadata": {},
   "source": [
    "# 1. Загрузка и подготовка данных"
   ]
  },
  {
   "cell_type": "code",
   "execution_count": 1,
   "metadata": {},
   "outputs": [],
   "source": [
    "import pandas as pd\n",
    "from sklearn.model_selection import train_test_split\n",
    "from sklearn.metrics import mean_squared_error\n",
    "from sklearn.linear_model import LinearRegression\n",
    "import seaborn as sns\n",
    "import matplotlib.pyplot as plt\n",
    "import numpy as np\n",
    "from scipy import stats as st"
   ]
  },
  {
   "cell_type": "code",
   "execution_count": 3,
   "metadata": {},
   "outputs": [
    {
     "name": "stdout",
     "output_type": "stream",
     "text": [
      "<class 'pandas.core.frame.DataFrame'>\n",
      "RangeIndex: 100000 entries, 0 to 99999\n",
      "Data columns (total 5 columns):\n",
      "id         100000 non-null object\n",
      "f0         100000 non-null float64\n",
      "f1         100000 non-null float64\n",
      "f2         100000 non-null float64\n",
      "product    100000 non-null float64\n",
      "dtypes: float64(4), object(1)\n",
      "memory usage: 3.8+ MB\n"
     ]
    }
   ],
   "source": [
    "region_one.info()"
   ]
  },
  {
   "cell_type": "code",
   "execution_count": 4,
   "metadata": {},
   "outputs": [
    {
     "name": "stdout",
     "output_type": "stream",
     "text": [
      "<class 'pandas.core.frame.DataFrame'>\n",
      "RangeIndex: 100000 entries, 0 to 99999\n",
      "Data columns (total 5 columns):\n",
      "id         100000 non-null object\n",
      "f0         100000 non-null float64\n",
      "f1         100000 non-null float64\n",
      "f2         100000 non-null float64\n",
      "product    100000 non-null float64\n",
      "dtypes: float64(4), object(1)\n",
      "memory usage: 3.8+ MB\n"
     ]
    }
   ],
   "source": [
    " region_two.info()"
   ]
  },
  {
   "cell_type": "code",
   "execution_count": 5,
   "metadata": {},
   "outputs": [
    {
     "name": "stdout",
     "output_type": "stream",
     "text": [
      "<class 'pandas.core.frame.DataFrame'>\n",
      "RangeIndex: 100000 entries, 0 to 99999\n",
      "Data columns (total 5 columns):\n",
      "id         100000 non-null object\n",
      "f0         100000 non-null float64\n",
      "f1         100000 non-null float64\n",
      "f2         100000 non-null float64\n",
      "product    100000 non-null float64\n",
      "dtypes: float64(4), object(1)\n",
      "memory usage: 3.8+ MB\n"
     ]
    }
   ],
   "source": [
    "region_three.info()"
   ]
  },
  {
   "cell_type": "code",
   "execution_count": 6,
   "metadata": {},
   "outputs": [
    {
     "data": {
      "text/html": [
       "<div>\n",
       "<style scoped>\n",
       "    .dataframe tbody tr th:only-of-type {\n",
       "        vertical-align: middle;\n",
       "    }\n",
       "\n",
       "    .dataframe tbody tr th {\n",
       "        vertical-align: top;\n",
       "    }\n",
       "\n",
       "    .dataframe thead th {\n",
       "        text-align: right;\n",
       "    }\n",
       "</style>\n",
       "<table border=\"1\" class=\"dataframe\">\n",
       "  <thead>\n",
       "    <tr style=\"text-align: right;\">\n",
       "      <th></th>\n",
       "      <th>id</th>\n",
       "      <th>f0</th>\n",
       "      <th>f1</th>\n",
       "      <th>f2</th>\n",
       "      <th>product</th>\n",
       "    </tr>\n",
       "  </thead>\n",
       "  <tbody>\n",
       "    <tr>\n",
       "      <td>0</td>\n",
       "      <td>txEyH</td>\n",
       "      <td>0.705745</td>\n",
       "      <td>-0.497823</td>\n",
       "      <td>1.221170</td>\n",
       "      <td>105.280062</td>\n",
       "    </tr>\n",
       "    <tr>\n",
       "      <td>1</td>\n",
       "      <td>2acmU</td>\n",
       "      <td>1.334711</td>\n",
       "      <td>-0.340164</td>\n",
       "      <td>4.365080</td>\n",
       "      <td>73.037750</td>\n",
       "    </tr>\n",
       "    <tr>\n",
       "      <td>2</td>\n",
       "      <td>409Wp</td>\n",
       "      <td>1.022732</td>\n",
       "      <td>0.151990</td>\n",
       "      <td>1.419926</td>\n",
       "      <td>85.265647</td>\n",
       "    </tr>\n",
       "    <tr>\n",
       "      <td>3</td>\n",
       "      <td>iJLyR</td>\n",
       "      <td>-0.032172</td>\n",
       "      <td>0.139033</td>\n",
       "      <td>2.978566</td>\n",
       "      <td>168.620776</td>\n",
       "    </tr>\n",
       "    <tr>\n",
       "      <td>4</td>\n",
       "      <td>Xdl7t</td>\n",
       "      <td>1.988431</td>\n",
       "      <td>0.155413</td>\n",
       "      <td>4.751769</td>\n",
       "      <td>154.036647</td>\n",
       "    </tr>\n",
       "  </tbody>\n",
       "</table>\n",
       "</div>"
      ],
      "text/plain": [
       "      id        f0        f1        f2     product\n",
       "0  txEyH  0.705745 -0.497823  1.221170  105.280062\n",
       "1  2acmU  1.334711 -0.340164  4.365080   73.037750\n",
       "2  409Wp  1.022732  0.151990  1.419926   85.265647\n",
       "3  iJLyR -0.032172  0.139033  2.978566  168.620776\n",
       "4  Xdl7t  1.988431  0.155413  4.751769  154.036647"
      ]
     },
     "execution_count": 6,
     "metadata": {},
     "output_type": "execute_result"
    }
   ],
   "source": [
    "region_one.head()"
   ]
  },
  {
   "cell_type": "code",
   "execution_count": 7,
   "metadata": {},
   "outputs": [
    {
     "data": {
      "text/html": [
       "<div>\n",
       "<style scoped>\n",
       "    .dataframe tbody tr th:only-of-type {\n",
       "        vertical-align: middle;\n",
       "    }\n",
       "\n",
       "    .dataframe tbody tr th {\n",
       "        vertical-align: top;\n",
       "    }\n",
       "\n",
       "    .dataframe thead th {\n",
       "        text-align: right;\n",
       "    }\n",
       "</style>\n",
       "<table border=\"1\" class=\"dataframe\">\n",
       "  <thead>\n",
       "    <tr style=\"text-align: right;\">\n",
       "      <th></th>\n",
       "      <th>id</th>\n",
       "      <th>f0</th>\n",
       "      <th>f1</th>\n",
       "      <th>f2</th>\n",
       "      <th>product</th>\n",
       "    </tr>\n",
       "  </thead>\n",
       "  <tbody>\n",
       "    <tr>\n",
       "      <td>0</td>\n",
       "      <td>kBEdx</td>\n",
       "      <td>-15.001348</td>\n",
       "      <td>-8.276000</td>\n",
       "      <td>-0.005876</td>\n",
       "      <td>3.179103</td>\n",
       "    </tr>\n",
       "    <tr>\n",
       "      <td>1</td>\n",
       "      <td>62mP7</td>\n",
       "      <td>14.272088</td>\n",
       "      <td>-3.475083</td>\n",
       "      <td>0.999183</td>\n",
       "      <td>26.953261</td>\n",
       "    </tr>\n",
       "    <tr>\n",
       "      <td>2</td>\n",
       "      <td>vyE1P</td>\n",
       "      <td>6.263187</td>\n",
       "      <td>-5.948386</td>\n",
       "      <td>5.001160</td>\n",
       "      <td>134.766305</td>\n",
       "    </tr>\n",
       "    <tr>\n",
       "      <td>3</td>\n",
       "      <td>KcrkZ</td>\n",
       "      <td>-13.081196</td>\n",
       "      <td>-11.506057</td>\n",
       "      <td>4.999415</td>\n",
       "      <td>137.945408</td>\n",
       "    </tr>\n",
       "    <tr>\n",
       "      <td>4</td>\n",
       "      <td>AHL4O</td>\n",
       "      <td>12.702195</td>\n",
       "      <td>-8.147433</td>\n",
       "      <td>5.004363</td>\n",
       "      <td>134.766305</td>\n",
       "    </tr>\n",
       "  </tbody>\n",
       "</table>\n",
       "</div>"
      ],
      "text/plain": [
       "      id         f0         f1        f2     product\n",
       "0  kBEdx -15.001348  -8.276000 -0.005876    3.179103\n",
       "1  62mP7  14.272088  -3.475083  0.999183   26.953261\n",
       "2  vyE1P   6.263187  -5.948386  5.001160  134.766305\n",
       "3  KcrkZ -13.081196 -11.506057  4.999415  137.945408\n",
       "4  AHL4O  12.702195  -8.147433  5.004363  134.766305"
      ]
     },
     "execution_count": 7,
     "metadata": {},
     "output_type": "execute_result"
    }
   ],
   "source": [
    "region_two.head()"
   ]
  },
  {
   "cell_type": "code",
   "execution_count": 8,
   "metadata": {},
   "outputs": [
    {
     "data": {
      "text/html": [
       "<div>\n",
       "<style scoped>\n",
       "    .dataframe tbody tr th:only-of-type {\n",
       "        vertical-align: middle;\n",
       "    }\n",
       "\n",
       "    .dataframe tbody tr th {\n",
       "        vertical-align: top;\n",
       "    }\n",
       "\n",
       "    .dataframe thead th {\n",
       "        text-align: right;\n",
       "    }\n",
       "</style>\n",
       "<table border=\"1\" class=\"dataframe\">\n",
       "  <thead>\n",
       "    <tr style=\"text-align: right;\">\n",
       "      <th></th>\n",
       "      <th>id</th>\n",
       "      <th>f0</th>\n",
       "      <th>f1</th>\n",
       "      <th>f2</th>\n",
       "      <th>product</th>\n",
       "    </tr>\n",
       "  </thead>\n",
       "  <tbody>\n",
       "    <tr>\n",
       "      <td>0</td>\n",
       "      <td>fwXo0</td>\n",
       "      <td>-1.146987</td>\n",
       "      <td>0.963328</td>\n",
       "      <td>-0.828965</td>\n",
       "      <td>27.758673</td>\n",
       "    </tr>\n",
       "    <tr>\n",
       "      <td>1</td>\n",
       "      <td>WJtFt</td>\n",
       "      <td>0.262778</td>\n",
       "      <td>0.269839</td>\n",
       "      <td>-2.530187</td>\n",
       "      <td>56.069697</td>\n",
       "    </tr>\n",
       "    <tr>\n",
       "      <td>2</td>\n",
       "      <td>ovLUW</td>\n",
       "      <td>0.194587</td>\n",
       "      <td>0.289035</td>\n",
       "      <td>-5.586433</td>\n",
       "      <td>62.871910</td>\n",
       "    </tr>\n",
       "    <tr>\n",
       "      <td>3</td>\n",
       "      <td>q6cA6</td>\n",
       "      <td>2.236060</td>\n",
       "      <td>-0.553760</td>\n",
       "      <td>0.930038</td>\n",
       "      <td>114.572842</td>\n",
       "    </tr>\n",
       "    <tr>\n",
       "      <td>4</td>\n",
       "      <td>WPMUX</td>\n",
       "      <td>-0.515993</td>\n",
       "      <td>1.716266</td>\n",
       "      <td>5.899011</td>\n",
       "      <td>149.600746</td>\n",
       "    </tr>\n",
       "  </tbody>\n",
       "</table>\n",
       "</div>"
      ],
      "text/plain": [
       "      id        f0        f1        f2     product\n",
       "0  fwXo0 -1.146987  0.963328 -0.828965   27.758673\n",
       "1  WJtFt  0.262778  0.269839 -2.530187   56.069697\n",
       "2  ovLUW  0.194587  0.289035 -5.586433   62.871910\n",
       "3  q6cA6  2.236060 -0.553760  0.930038  114.572842\n",
       "4  WPMUX -0.515993  1.716266  5.899011  149.600746"
      ]
     },
     "execution_count": 8,
     "metadata": {},
     "output_type": "execute_result"
    }
   ],
   "source": [
    "region_three.head()"
   ]
  },
  {
   "cell_type": "code",
   "execution_count": 9,
   "metadata": {},
   "outputs": [],
   "source": [
    "# Удаляем строки с дублированными данными в колонке id\n",
    "regions = [region_one, region_two, region_three]\n",
    "for region in regions:\n",
    "    region.drop(region.query('id.duplicated() == True').index, inplace=True)"
   ]
  },
  {
   "cell_type": "code",
   "execution_count": 10,
   "metadata": {},
   "outputs": [
    {
     "data": {
      "text/plain": [
       "0"
      ]
     },
     "execution_count": 10,
     "metadata": {},
     "output_type": "execute_result"
    }
   ],
   "source": [
    "region_one['id'].duplicated().sum()"
   ]
  },
  {
   "cell_type": "code",
   "execution_count": 11,
   "metadata": {},
   "outputs": [
    {
     "data": {
      "text/plain": [
       "0"
      ]
     },
     "execution_count": 11,
     "metadata": {},
     "output_type": "execute_result"
    }
   ],
   "source": [
    "region_two['id'].duplicated().sum()"
   ]
  },
  {
   "cell_type": "code",
   "execution_count": 12,
   "metadata": {},
   "outputs": [
    {
     "data": {
      "text/plain": [
       "0"
      ]
     },
     "execution_count": 12,
     "metadata": {},
     "output_type": "execute_result"
    }
   ],
   "source": [
    "region_three['id'].duplicated().sum()"
   ]
  },
  {
   "cell_type": "code",
   "execution_count": 13,
   "metadata": {},
   "outputs": [],
   "source": [
    "# Выделяем целевые и независимые признаки в регионах\n",
    "# Для выборок независимых признаков также удаляем колонку id, т.к. данные в ней будут мешать обучению моделей.\n",
    "region_one_X = region_one.drop(['product','id'], axis=1)\n",
    "region_one_y = region_one['product']\n",
    "region_two_X = region_two.drop(['product','id'], axis=1)\n",
    "region_two_y = region_two['product']\n",
    "region_three_X = region_three.drop(['product','id'], axis=1)\n",
    "region_three_y = region_three['product']"
   ]
  },
  {
   "cell_type": "markdown",
   "metadata": {},
   "source": [
    "### Вывод:  \n",
    "* Чтобы избежать ошибок, в датасетах были удалены строки с дублирующимися id.  \n",
    "* Для каждого региона были выделены независимые и целевые признаки"
   ]
  },
  {
   "cell_type": "markdown",
   "metadata": {},
   "source": [
    "# 2. Обучение и проверка модели"
   ]
  },
  {
   "cell_type": "code",
   "execution_count": 14,
   "metadata": {},
   "outputs": [],
   "source": [
    "# Делим данные трёх регионов на обучающие и валидационные выборки\n",
    "# Для удобства регион №1 будет называться alpha, а регионы №2 и №3 соответственно beta и gamma\n",
    "alpha_X_train, alpha_X_valid, alpha_y_train, alpha_y_valid = train_test_split(region_one_X, region_one_y, test_size=0.25)\n",
    "beta_X_train, beta_X_valid, beta_y_train, beta_y_valid = train_test_split(region_two_X, region_two_y, test_size=0.25)\n",
    "gamma_X_train, gamma_X_valid, gamma_y_train, gamma_y_valid = train_test_split(region_three_X, region_three_y, test_size=0.25)"
   ]
  },
  {
   "cell_type": "code",
   "execution_count": 15,
   "metadata": {},
   "outputs": [],
   "source": [
    "# создаем нашу модель линейной регрессии\n",
    "model = LinearRegression()"
   ]
  },
  {
   "cell_type": "code",
   "execution_count": 16,
   "metadata": {},
   "outputs": [
    {
     "name": "stdout",
     "output_type": "stream",
     "text": [
      "Регион №1. Средний запас предсказанного сырья: 92.31628251842389, RMSE = 37.74842824848683\n"
     ]
    }
   ],
   "source": [
    "# обучаем модель на данных региона №1\n",
    "model.fit(alpha_X_train, alpha_y_train)\n",
    "alpha_predicted = model.predict(alpha_X_valid)\n",
    "mse_alpha = mean_squared_error(alpha_y_valid, alpha_predicted)\n",
    "rmse_alpha = mse_alpha**0.5\n",
    "alpha_mean = alpha_predicted.mean()\n",
    "print(f'Регион №1. Средний запас предсказанного сырья: {alpha_mean}, RMSE = {rmse_alpha}')"
   ]
  },
  {
   "cell_type": "code",
   "execution_count": 17,
   "metadata": {},
   "outputs": [
    {
     "name": "stdout",
     "output_type": "stream",
     "text": [
      "Регион №2. Средний запас предсказанного сырья: 69.15761146599104, RMSE = 0.8945966761629139\n"
     ]
    }
   ],
   "source": [
    "# обучаем модель на данных региона №2\n",
    "model.fit(beta_X_train, beta_y_train)\n",
    "beta_predicted = model.predict(beta_X_valid)\n",
    "mse_beta = mean_squared_error(beta_y_valid, beta_predicted)\n",
    "rmse_beta = mse_beta**0.5\n",
    "beta_mean = beta_predicted.mean()\n",
    "print(f'Регион №2. Средний запас предсказанного сырья: {beta_mean}, RMSE = {rmse_beta}')"
   ]
  },
  {
   "cell_type": "code",
   "execution_count": 18,
   "metadata": {},
   "outputs": [
    {
     "name": "stdout",
     "output_type": "stream",
     "text": [
      "Регион №3. Средний запас предсказанного сырья: 95.14739440099697, RMSE = 40.33026202654201\n"
     ]
    }
   ],
   "source": [
    "# обучаем модель на данных региона №3\n",
    "model.fit(gamma_X_train, gamma_y_train)\n",
    "gamma_predicted = model.predict(gamma_X_valid)\n",
    "mse_gamma = mean_squared_error(gamma_y_valid, gamma_predicted)\n",
    "rmse_gamma = mse_gamma**0.5\n",
    "gamma_mean = gamma_predicted.mean()\n",
    "print(f'Регион №3. Средний запас предсказанного сырья: {gamma_mean}, RMSE = {rmse_gamma}')"
   ]
  },
  {
   "cell_type": "code",
   "execution_count": 19,
   "metadata": {},
   "outputs": [
    {
     "data": {
      "image/png": "[encoded data removed]",
      "text/plain": [
       "<Figure size 432x288 with 2 Axes>"
      ]
     },
     "metadata": {
      "needs_background": "light"
     },
     "output_type": "display_data"
    },
    {
     "data": {
      "image/png": "[encoded data removed]",
      "text/plain": [
       "<Figure size 432x288 with 2 Axes>"
      ]
     },
     "metadata": {
      "needs_background": "light"
     },
     "output_type": "display_data"
    },
    {
     "data": {
      "image/png": "[encoded data removed]",
      "text/plain": [
       "<Figure size 432x288 with 2 Axes>"
      ]
     },
     "metadata": {
      "needs_background": "light"
     },
     "output_type": "display_data"
    }
   ],
   "source": [
    "for i in range(len(regions)):\n",
    "    ax = plt.axes()\n",
    "    sns.heatmap(regions[i].corr(), annot = True)\n",
    "    ax.set_title('region ' + str(i+1))\n",
    "    plt.show()"
   ]
  },
  {
   "cell_type": "code",
   "execution_count": null,
   "metadata": {},
   "outputs": [],
   "source": []
  },
  {
   "cell_type": "markdown",
   "metadata": {},
   "source": [
    "### Вывод:  \n",
    "* Мы разделили данные каждого региона на обучающую и валидационную выборки;    \n",
    "* Обучили модель линейной регрессии на тренировочных данных каждого региона;  \n",
    "* Посчитали среднее количество предсказанных запасов в каждом регионе, и посчитали среднеквадратическую ошибку;  \n",
    "* В регионе №1. Средний запас предсказанного сырья: 92.516 тыс.баррелей, RMSE = 37.7387;  \n",
    "* В регионе №2. Средний запас предсказанного сырья: 68.966 тыс.баррелей, RMSE = 0.8907;  \n",
    "* В регионе №3. Средний запас предсказанного сырья: 95.0019 тыс.баррелей, RMSE = 39.94007;  \n",
    "* Для проверки корреляции признаков мы построили тепловые карты данных для каждого региона. Удалось обнаружить высокую корреляцию между признако f2 и целевым признаком в регионе №2, потому среднеквадратическая ошибка в этом регионе меньше единицы."
   ]
  },
  {
   "cell_type": "markdown",
   "metadata": {},
   "source": [
    "# 3. Подготовка к расчёту прибыли"
   ]
  },
  {
   "cell_type": "code",
   "execution_count": 20,
   "metadata": {},
   "outputs": [],
   "source": [
    "# Сохраняем ключевые значения для расчетов\n",
    "regional_budget = 10_000_000_000 # Бюджет на разработку скважин в регионе\n",
    "one_barrel_income = 450  # Доход с одного барреля сырья \n",
    "income_per_unit = 450_000 # Доход с каждой единицы продукта \n",
    "MINES_COUNT = 200 # Количество лучших шахт для расчета прибыли"
   ]
  },
  {
   "cell_type": "code",
   "execution_count": 21,
   "metadata": {},
   "outputs": [
    {
     "data": {
      "text/plain": [
       "111.11"
      ]
     },
     "execution_count": 21,
     "metadata": {},
     "output_type": "execute_result"
    }
   ],
   "source": [
    "# Рассчитываем достаточный объём сырья для безубыточной разработки новой скважины\n",
    "regional_development = regional_budget/income_per_unit\n",
    "staple_volume = regional_development / MINES_COUNT\n",
    "round(staple_volume,2)"
   ]
  },
  {
   "cell_type": "code",
   "execution_count": 22,
   "metadata": {},
   "outputs": [],
   "source": [
    "# Сравнение средних запасов предсказанного сырья в регионах по сравнению с объёмом достаточным для безубыточной разработки\n",
    "means = [alpha_mean, beta_mean, gamma_mean]"
   ]
  },
  {
   "cell_type": "code",
   "execution_count": 23,
   "metadata": {},
   "outputs": [],
   "source": [
    "def compare_volume(region_volumes):\n",
    "    for i in range(len(region_volumes)):\n",
    "        if region_volumes[i] < staple_volume:\n",
    "            print(f'Средний предсказанный запас сырья в регионе {i+1} меньше объёма достаточного для безубыточной разработки на {round(staple_volume - region_volumes[i], 2)}')\n",
    "        else:\n",
    "            print(f'Средний предсказанный запас сырья в регионе {i+1} больше объёма достаточного для безубыточной разработки на {round(region_volumes[i] - staple_volume, 2)}')"
   ]
  },
  {
   "cell_type": "code",
   "execution_count": 24,
   "metadata": {},
   "outputs": [
    {
     "name": "stdout",
     "output_type": "stream",
     "text": [
      "Средний предсказанный запас сырья в регионе 1 меньше объёма достаточного для безубыточной разработки на 18.79\n",
      "Средний предсказанный запас сырья в регионе 2 меньше объёма достаточного для безубыточной разработки на 41.95\n",
      "Средний предсказанный запас сырья в регионе 3 меньше объёма достаточного для безубыточной разработки на 15.96\n"
     ]
    }
   ],
   "source": [
    "compare_volume(means)"
   ]
  },
  {
   "cell_type": "markdown",
   "metadata": {},
   "source": [
    "### Вывод:  \n",
    "* Мы сохранили ключевые значения для расчетов в переменных;  \n",
    "* Рассчитали необходимое количество сырья для безубыточной разработки новой скважины - это 111.11 баррелей;  \n",
    "* После сравнения средних предсказанных моделю запасов сырья, мы выяснили что среднее значение запасов во всех трех регионах меньше необходимого количества для безубыточной разработки;  \n",
    "* Ближе всего к необходимому количеству предсказанные запасы в регионе №3, меньше всего предсказанных запасов в регионе №2."
   ]
  },
  {
   "cell_type": "markdown",
   "metadata": {},
   "source": [
    "# 4. Функция для расчёта прибыли по выбранным скважинам и предсказаниям модели"
   ]
  },
  {
   "cell_type": "code",
   "execution_count": 25,
   "metadata": {},
   "outputs": [],
   "source": [
    "# Функция для расчета прибыли по выбранным скважинам и предсказаниям модели\n",
    "def revenue(target, predictions):\n",
    "    target = pd.Series(target).reset_index(drop=True)\n",
    "    predictions = pd.Series(predictions).reset_index(drop=True)\n",
    "    predictions_s = predictions.sort_values(ascending=False)[:MINES_COUNT].index\n",
    "    selected = target[predictions_s]\n",
    "    revenue = selected.sum() * income_per_unit - regional_budget\n",
    "    return round(revenue, 2)"
   ]
  },
  {
   "cell_type": "code",
   "execution_count": 26,
   "metadata": {},
   "outputs": [
    {
     "data": {
      "text/plain": [
       "3225668363.55"
      ]
     },
     "execution_count": 26,
     "metadata": {},
     "output_type": "execute_result"
    }
   ],
   "source": [
    "revenue(alpha_y_valid, alpha_predicted)"
   ]
  },
  {
   "cell_type": "code",
   "execution_count": 27,
   "metadata": {},
   "outputs": [
    {
     "data": {
      "text/plain": [
       "2415086696.68"
      ]
     },
     "execution_count": 27,
     "metadata": {},
     "output_type": "execute_result"
    }
   ],
   "source": [
    "revenue(beta_y_valid, beta_predicted)"
   ]
  },
  {
   "cell_type": "code",
   "execution_count": 28,
   "metadata": {},
   "outputs": [
    {
     "data": {
      "text/plain": [
       "2533208441.87"
      ]
     },
     "execution_count": 28,
     "metadata": {},
     "output_type": "execute_result"
    }
   ],
   "source": [
    "revenue(gamma_y_valid, gamma_predicted)"
   ]
  },
  {
   "cell_type": "markdown",
   "metadata": {},
   "source": [
    "# 5. Расчёт прибыли и рисков "
   ]
  },
  {
   "cell_type": "code",
   "execution_count": 36,
   "metadata": {},
   "outputs": [],
   "source": [
    "def bootstrap(target, probabilities, iterations, sample_size):\n",
    "    state = np.random.RandomState(12345)\n",
    "    values = []\n",
    "    for i in range(iterations):\n",
    "        target_subsample = target.sample(n=sample_size, random_state=state, replace=True)\n",
    "        probs_subsample = probabilities[target_subsample.index]\n",
    "        values.append(revenue(target_subsample, probs_subsample))\n",
    "\n",
    "    values = pd.Series(values)\n",
    "    mean = values.mean()\n",
    "    risk = (values < 0).mean()\n",
    "    confidence_interval = st.t.interval(0.95, len(values)-1, loc=values.mean(), scale=values.sem())\n",
    "    \n",
    "    lower = values.quantile(0.025)\n",
    "    upper = values.quantile(0.975)\n",
    "    quantile_interval = (lower, upper)\n",
    "    return round(mean,2), confidence_interval, round(risk*100, 2), quantile_interval"
   ]
  },
  {
   "cell_type": "code",
   "execution_count": null,
   "metadata": {},
   "outputs": [],
   "source": []
  },
  {
   "cell_type": "code",
   "execution_count": 37,
   "metadata": {},
   "outputs": [
    {
     "name": "stdout",
     "output_type": "stream",
     "text": [
      "Регион №1 средняя выручка =  397672150.08\n",
      "Регион №1 95 %ый доверительный интервал по стьюденту =  (381284705.49558306, 414059594.659577)\n",
      "Регион №1 95 %ый доверительный интервал по квантилям =  (-158764516.25074998, 909844786.4617499)\n",
      "Регион №1 Риск убытков: 6.2%\n"
     ]
    }
   ],
   "source": [
    "alpha_mean, alpha_interval, alpha_risk, alpha_quantile = bootstrap(alpha_y_valid.reset_index(drop=True), alpha_predicted, 1000, 500)\n",
    "print('Регион №1 средняя выручка = ', alpha_mean)\n",
    "print('Регион №1 95 %ый доверительный интервал по стьюденту = ', alpha_interval)\n",
    "print('Регион №1 95 %ый доверительный интервал по квантилям = ', alpha_quantile)\n",
    "print(f'Регион №1 Риск убытков: {alpha_risk}%')"
   ]
  },
  {
   "cell_type": "code",
   "execution_count": 38,
   "metadata": {},
   "outputs": [
    {
     "name": "stdout",
     "output_type": "stream",
     "text": [
      "Регион №2 средняя выручка =  482507465.0\n",
      "Регион №2 95 %ый доверительный интервал по стьюденту =  (470025059.155097, 494989870.848423)\n",
      "Регион №2 95 %ый доверительный интервал по квантилям =  (96011012.57575001, 897233498.308)\n",
      "Регион №2 Риск убытков: 0.9%\n"
     ]
    }
   ],
   "source": [
    "beta_mean, beta_interval, beta_risk, beta_quantile = bootstrap(beta_y_valid.reset_index(drop=True), beta_predicted, 1000, 500)\n",
    "print('Регион №2 средняя выручка = ', beta_mean)\n",
    "print('Регион №2 95 %ый доверительный интервал по стьюденту = ', beta_interval)\n",
    "print('Регион №2 95 %ый доверительный интервал по квантилям = ', beta_quantile)\n",
    "print(f'Регион №2 Риск убытков: {beta_risk}%')"
   ]
  },
  {
   "cell_type": "code",
   "execution_count": 40,
   "metadata": {},
   "outputs": [
    {
     "name": "stdout",
     "output_type": "stream",
     "text": [
      "Регион №3 средняя выручка =  375985896.31\n",
      "Регион №3 95 %ый доверительный интервал по стьюденту =  (359174564.45022887, 392797228.17039114)\n",
      "Регион №2 95 %ый доверительный интервал по квантилям =  (-145543409.806, 890085754.1269999)\n",
      "Регион №3 Риск убытков: 8.0%\n"
     ]
    }
   ],
   "source": [
    "gamma_mean, gamma_interval, gamma_risk, gamma_quantile = bootstrap(gamma_y_valid.reset_index(drop=True), gamma_predicted, 1000, 500)\n",
    "print('Регион №3 средняя выручка = ', gamma_mean)\n",
    "print('Регион №3 95 %ый доверительный интервал по стьюденту = ', gamma_interval)\n",
    "print('Регион №2 95 %ый доверительный интервал по квантилям = ', gamma_quantile)\n",
    "print(f'Регион №3 Риск убытков: {gamma_risk}%')"
   ]
  },
  {
   "cell_type": "markdown",
   "metadata": {},
   "source": [
    "# Вывод:  \n",
    "* Согласно прогнозам сделанным с помощью техники Bootstrap, наиболее прибыльным будет разработка месторождений в регионе №2. В данном регионе самые высокие показатели средней выручки и 95%-ного доверительного интервала. Также в регионе №2 самый низкий риск убытков. "
   ]
  },
  {
   "cell_type": "code",
   "execution_count": null,
   "metadata": {},
   "outputs": [],
   "source": []
  }
 ],
 "metadata": {
  "kernelspec": {
   "display_name": "Python 3",
   "language": "python",
   "name": "python3"
  },
  "language_info": {
   "codemirror_mode": {
    "name": "ipython",
    "version": 3
   },
   "file_extension": ".py",
   "mimetype": "text/x-python",
   "name": "python",
   "nbconvert_exporter": "python",
   "pygments_lexer": "ipython3",
   "version": "3.7.2"
  }
 },
 "nbformat": 4,
 "nbformat_minor": 2
}
